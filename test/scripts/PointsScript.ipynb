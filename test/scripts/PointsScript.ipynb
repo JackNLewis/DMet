{
 "cells": [
  {
   "cell_type": "code",
   "execution_count": 125,
   "metadata": {},
   "outputs": [],
   "source": [
    "import scipy as sp\n",
    "import numpy as np\n",
    "import os\n",
    "import pandas as pd\n",
    "import sys\n",
    "from scipy.spatial import distance \n",
    "cwd = os.getcwd()"
   ]
  },
  {
   "cell_type": "markdown",
   "metadata": {},
   "source": [
    "# General tests"
   ]
  },
  {
   "cell_type": "code",
   "execution_count": 126,
   "metadata": {},
   "outputs": [
    {
     "name": "stdout",
     "output_type": "stream",
     "text": [
      "[ 407929.68953623 -577797.3717119   722058.38121268 -500884.40524092]\n",
      "[-1627452.97148523   708686.28282828 -2372012.3067377  -1216402.90756373]\n",
      "[-164009.80198242 -435773.81217974  868804.82721754 -136392.6079666 ]\n",
      "[ 530357.58029356 2446896.39353932  515188.13790447  904683.23386673]\n",
      "[  473064.87101807   717943.69745363 -1621922.56290835  -297442.84110545]\n",
      "[ -287054.88163399   -50043.79990091  -520868.21811067 -2133736.09935503]\n",
      "[-2316510.7571252   1170102.97887489  -724165.82255716  -401779.35571307]\n",
      "[-1634490.70676042   632398.85453218   845039.21337054  2125084.07636624]\n",
      "[ 270074.41811212 -392966.26568544  474168.3973797   252922.36566978]\n",
      "[ -32498.06293795 -441356.31350343 -203860.59387279  166819.68337851]\n",
      "[ 1304823.73095087  -874497.97231841 -1580330.86772977   485207.55020181]\n",
      "[-2171558.07555764   418003.43183448 -1319974.29470728  -440046.710217  ]\n",
      "[-274361.84239714  287614.99382774 1011192.35760644  182121.49976581]\n",
      "[2067310.03876174 2199967.16345638  276450.69763146 -379759.842645  ]\n",
      "[  57245.0186093  -102439.39258064 -240944.15158051  109869.48860239]\n",
      "[ -852188.35203583 -1449226.11501171 -1934472.2445535   -751907.82388796]\n",
      "[1554583.9411661  1217206.46048888 -501113.74100911  350377.23226508]\n",
      "[-445268.22435228  573486.96814764 1197791.42023545 -693496.80614502]\n",
      "[  923547.65376297  -553025.87503258  1127925.13421818 -1097091.95390587]\n",
      "[1625759.90554303 1279574.94976577 1208489.00310219  466792.10122431]\n"
     ]
    }
   ],
   "source": [
    "eucl_values = []\n",
    "man_values = []\n",
    "cheb_values = []\n",
    "for i in range(10):\n",
    "    x = np.random.normal(0,1000000, size=(4))\n",
    "    y = np.random.normal(0,1000000, size=(4))\n",
    "    print(x)\n",
    "    print(y)\n",
    "    eucl_dist = distance.euclidean(x,y)\n",
    "    man_dist = distance.cityblock(x,y)\n",
    "    cheb_dist = distance.chebyshev(x,y)\n",
    "    eucl_row = np.concatenate((x,y,[eucl_dist]),axis=0)\n",
    "    man_row = np.concatenate((x,y,[man_dist]),axis=0)\n",
    "    cheb_row = np.concatenate((x,y,[cheb_dist]),axis=0)\n",
    "    eucl_values.append(eucl_row)\n",
    "    man_values.append(man_row)\n",
    "    cheb_values.append(cheb_row)"
   ]
  },
  {
   "cell_type": "code",
   "execution_count": 127,
   "metadata": {},
   "outputs": [],
   "source": [
    "eucl_df = pd.DataFrame(eucl_values)\n",
    "man_df = pd.DataFrame(man_values)\n",
    "cheb_df = pd.DataFrame(cheb_values)\n",
    "eucl_df.to_csv(os.path.join(cwd, \"eucl_general\"),header=False,index=False)\n",
    "man_df.to_csv(os.path.join(cwd, \"man_general\"),header=False,index=False)\n",
    "cheb_df.to_csv(os.path.join(cwd, \"cheb_general\"),header=False,index=False)"
   ]
  },
  {
   "cell_type": "code",
   "execution_count": 128,
   "metadata": {},
   "outputs": [
    {
     "data": {
      "text/html": [
       "<div>\n",
       "<style scoped>\n",
       "    .dataframe tbody tr th:only-of-type {\n",
       "        vertical-align: middle;\n",
       "    }\n",
       "\n",
       "    .dataframe tbody tr th {\n",
       "        vertical-align: top;\n",
       "    }\n",
       "\n",
       "    .dataframe thead th {\n",
       "        text-align: right;\n",
       "    }\n",
       "</style>\n",
       "<table border=\"1\" class=\"dataframe\">\n",
       "  <thead>\n",
       "    <tr style=\"text-align: right;\">\n",
       "      <th></th>\n",
       "      <th>0</th>\n",
       "      <th>1</th>\n",
       "      <th>2</th>\n",
       "      <th>3</th>\n",
       "      <th>4</th>\n",
       "      <th>5</th>\n",
       "      <th>6</th>\n",
       "      <th>7</th>\n",
       "      <th>8</th>\n",
       "    </tr>\n",
       "  </thead>\n",
       "  <tbody>\n",
       "    <tr>\n",
       "      <th>0</th>\n",
       "      <td>4.079297e+05</td>\n",
       "      <td>-5.777974e+05</td>\n",
       "      <td>7.220584e+05</td>\n",
       "      <td>-500884.405241</td>\n",
       "      <td>-1.627453e+06</td>\n",
       "      <td>7.086863e+05</td>\n",
       "      <td>-2.372012e+06</td>\n",
       "      <td>-1.216403e+06</td>\n",
       "      <td>7.131456e+06</td>\n",
       "    </tr>\n",
       "    <tr>\n",
       "      <th>1</th>\n",
       "      <td>-1.640098e+05</td>\n",
       "      <td>-4.357738e+05</td>\n",
       "      <td>8.688048e+05</td>\n",
       "      <td>-136392.607967</td>\n",
       "      <td>5.303576e+05</td>\n",
       "      <td>2.446896e+06</td>\n",
       "      <td>5.151881e+05</td>\n",
       "      <td>9.046832e+05</td>\n",
       "      <td>4.971730e+06</td>\n",
       "    </tr>\n",
       "    <tr>\n",
       "      <th>2</th>\n",
       "      <td>4.730649e+05</td>\n",
       "      <td>7.179437e+05</td>\n",
       "      <td>-1.621923e+06</td>\n",
       "      <td>-297442.841105</td>\n",
       "      <td>-2.870549e+05</td>\n",
       "      <td>-5.004380e+04</td>\n",
       "      <td>-5.208682e+05</td>\n",
       "      <td>-2.133736e+06</td>\n",
       "      <td>4.465455e+06</td>\n",
       "    </tr>\n",
       "    <tr>\n",
       "      <th>3</th>\n",
       "      <td>-2.316511e+06</td>\n",
       "      <td>1.170103e+06</td>\n",
       "      <td>-7.241658e+05</td>\n",
       "      <td>-401779.355713</td>\n",
       "      <td>-1.634491e+06</td>\n",
       "      <td>6.323989e+05</td>\n",
       "      <td>8.450392e+05</td>\n",
       "      <td>2.125084e+06</td>\n",
       "      <td>5.315793e+06</td>\n",
       "    </tr>\n",
       "    <tr>\n",
       "      <th>4</th>\n",
       "      <td>2.700744e+05</td>\n",
       "      <td>-3.929663e+05</td>\n",
       "      <td>4.741684e+05</td>\n",
       "      <td>252922.365670</td>\n",
       "      <td>-3.249806e+04</td>\n",
       "      <td>-4.413563e+05</td>\n",
       "      <td>-2.038606e+05</td>\n",
       "      <td>1.668197e+05</td>\n",
       "      <td>1.115094e+06</td>\n",
       "    </tr>\n",
       "  </tbody>\n",
       "</table>\n",
       "</div>"
      ],
      "text/plain": [
       "              0             1             2              3             4  \\\n",
       "0  4.079297e+05 -5.777974e+05  7.220584e+05 -500884.405241 -1.627453e+06   \n",
       "1 -1.640098e+05 -4.357738e+05  8.688048e+05 -136392.607967  5.303576e+05   \n",
       "2  4.730649e+05  7.179437e+05 -1.621923e+06 -297442.841105 -2.870549e+05   \n",
       "3 -2.316511e+06  1.170103e+06 -7.241658e+05 -401779.355713 -1.634491e+06   \n",
       "4  2.700744e+05 -3.929663e+05  4.741684e+05  252922.365670 -3.249806e+04   \n",
       "\n",
       "              5             6             7             8  \n",
       "0  7.086863e+05 -2.372012e+06 -1.216403e+06  7.131456e+06  \n",
       "1  2.446896e+06  5.151881e+05  9.046832e+05  4.971730e+06  \n",
       "2 -5.004380e+04 -5.208682e+05 -2.133736e+06  4.465455e+06  \n",
       "3  6.323989e+05  8.450392e+05  2.125084e+06  5.315793e+06  \n",
       "4 -4.413563e+05 -2.038606e+05  1.668197e+05  1.115094e+06  "
      ]
     },
     "execution_count": 128,
     "metadata": {},
     "output_type": "execute_result"
    }
   ],
   "source": [
    "man_df.head()"
   ]
  },
  {
   "cell_type": "markdown",
   "metadata": {},
   "source": [
    "# Same Points"
   ]
  },
  {
   "cell_type": "code",
   "execution_count": 129,
   "metadata": {
    "scrolled": false
   },
   "outputs": [],
   "source": [
    "same_values = []\n",
    "for i in range(1000):\n",
    "    x = np.random.normal(0,1000000, size=(4))\n",
    "    row = np.concatenate((x,x),axis=0)\n",
    "    same_values.append(row)"
   ]
  },
  {
   "cell_type": "code",
   "execution_count": 130,
   "metadata": {},
   "outputs": [
    {
     "name": "stdout",
     "output_type": "stream",
     "text": [
      "               0             1             2              3              4  \\\n",
      "0 -916014.916807 -4.843266e+05 -9.464030e+05  919714.159495 -916014.916807   \n",
      "1  282188.918481  1.290004e+05 -1.070534e+06  231757.956760  282188.918481   \n",
      "2  230097.617298  1.950185e+06 -5.744311e+05 -668859.736480  230097.617298   \n",
      "3  186866.846853  1.338950e+06 -1.126833e+06 -159054.488885  186866.846853   \n",
      "4  640971.077036  3.219321e+05  1.205140e+06 -836765.892655  640971.077036   \n",
      "\n",
      "              5             6              7  \n",
      "0 -4.843266e+05 -9.464030e+05  919714.159495  \n",
      "1  1.290004e+05 -1.070534e+06  231757.956760  \n",
      "2  1.950185e+06 -5.744311e+05 -668859.736480  \n",
      "3  1.338950e+06 -1.126833e+06 -159054.488885  \n",
      "4  3.219321e+05  1.205140e+06 -836765.892655  \n"
     ]
    }
   ],
   "source": [
    "same_df = pd.DataFrame(same_values)\n",
    "print(same_df.head())\n",
    "cwd = os.getcwd()\n",
    "same_df.to_csv(os.path.join(cwd, \"same_points\"),header=False,index=False)"
   ]
  },
  {
   "cell_type": "markdown",
   "metadata": {},
   "source": [
    "# Single Infinite"
   ]
  },
  {
   "cell_type": "code",
   "execution_count": 131,
   "metadata": {},
   "outputs": [
    {
     "name": "stdout",
     "output_type": "stream",
     "text": [
      "[1338979.45391574 -145267.44549022 -956255.47628435              inf]\n"
     ]
    },
    {
     "ename": "ValueError",
     "evalue": "array must not contain infs or NaNs",
     "output_type": "error",
     "traceback": [
      "\u001b[0;31m---------------------------------------------------------------------------\u001b[0m",
      "\u001b[0;31mValueError\u001b[0m                                Traceback (most recent call last)",
      "\u001b[0;32m<ipython-input-131-4aca28b9780a>\u001b[0m in \u001b[0;36m<module>\u001b[0;34m\u001b[0m\n\u001b[1;32m      3\u001b[0m \u001b[0mx\u001b[0m\u001b[0;34m[\u001b[0m\u001b[0mnp\u001b[0m\u001b[0;34m.\u001b[0m\u001b[0mrandom\u001b[0m\u001b[0;34m.\u001b[0m\u001b[0mrandint\u001b[0m\u001b[0;34m(\u001b[0m\u001b[0;36m4\u001b[0m\u001b[0;34m)\u001b[0m\u001b[0;34m]\u001b[0m \u001b[0;34m=\u001b[0m \u001b[0mnp\u001b[0m\u001b[0;34m.\u001b[0m\u001b[0minf\u001b[0m\u001b[0;34m\u001b[0m\u001b[0;34m\u001b[0m\u001b[0m\n\u001b[1;32m      4\u001b[0m \u001b[0mprint\u001b[0m\u001b[0;34m(\u001b[0m\u001b[0mx\u001b[0m\u001b[0;34m)\u001b[0m\u001b[0;34m\u001b[0m\u001b[0;34m\u001b[0m\u001b[0m\n\u001b[0;32m----> 5\u001b[0;31m \u001b[0mdist\u001b[0m \u001b[0;34m=\u001b[0m \u001b[0mdistance\u001b[0m\u001b[0;34m.\u001b[0m\u001b[0meuclidean\u001b[0m\u001b[0;34m(\u001b[0m\u001b[0mx\u001b[0m\u001b[0;34m,\u001b[0m\u001b[0my\u001b[0m\u001b[0;34m)\u001b[0m\u001b[0;34m\u001b[0m\u001b[0;34m\u001b[0m\u001b[0m\n\u001b[0m",
      "\u001b[0;32m~/opt/miniconda3/lib/python3.8/site-packages/scipy/spatial/distance.py\u001b[0m in \u001b[0;36meuclidean\u001b[0;34m(u, v, w)\u001b[0m\n\u001b[1;32m    595\u001b[0m \u001b[0;34m\u001b[0m\u001b[0m\n\u001b[1;32m    596\u001b[0m     \"\"\"\n\u001b[0;32m--> 597\u001b[0;31m     \u001b[0;32mreturn\u001b[0m \u001b[0mminkowski\u001b[0m\u001b[0;34m(\u001b[0m\u001b[0mu\u001b[0m\u001b[0;34m,\u001b[0m \u001b[0mv\u001b[0m\u001b[0;34m,\u001b[0m \u001b[0mp\u001b[0m\u001b[0;34m=\u001b[0m\u001b[0;36m2\u001b[0m\u001b[0;34m,\u001b[0m \u001b[0mw\u001b[0m\u001b[0;34m=\u001b[0m\u001b[0mw\u001b[0m\u001b[0;34m)\u001b[0m\u001b[0;34m\u001b[0m\u001b[0;34m\u001b[0m\u001b[0m\n\u001b[0m\u001b[1;32m    598\u001b[0m \u001b[0;34m\u001b[0m\u001b[0m\n\u001b[1;32m    599\u001b[0m \u001b[0;34m\u001b[0m\u001b[0m\n",
      "\u001b[0;32m~/opt/miniconda3/lib/python3.8/site-packages/scipy/spatial/distance.py\u001b[0m in \u001b[0;36mminkowski\u001b[0;34m(u, v, p, w)\u001b[0m\n\u001b[1;32m    499\u001b[0m             \u001b[0mroot_w\u001b[0m \u001b[0;34m=\u001b[0m \u001b[0mnp\u001b[0m\u001b[0;34m.\u001b[0m\u001b[0mpower\u001b[0m\u001b[0;34m(\u001b[0m\u001b[0mw\u001b[0m\u001b[0;34m,\u001b[0m \u001b[0;36m1\u001b[0m\u001b[0;34m/\u001b[0m\u001b[0mp\u001b[0m\u001b[0;34m)\u001b[0m\u001b[0;34m\u001b[0m\u001b[0;34m\u001b[0m\u001b[0m\n\u001b[1;32m    500\u001b[0m         \u001b[0mu_v\u001b[0m \u001b[0;34m=\u001b[0m \u001b[0mroot_w\u001b[0m \u001b[0;34m*\u001b[0m \u001b[0mu_v\u001b[0m\u001b[0;34m\u001b[0m\u001b[0;34m\u001b[0m\u001b[0m\n\u001b[0;32m--> 501\u001b[0;31m     \u001b[0mdist\u001b[0m \u001b[0;34m=\u001b[0m \u001b[0mnorm\u001b[0m\u001b[0;34m(\u001b[0m\u001b[0mu_v\u001b[0m\u001b[0;34m,\u001b[0m \u001b[0mord\u001b[0m\u001b[0;34m=\u001b[0m\u001b[0mp\u001b[0m\u001b[0;34m)\u001b[0m\u001b[0;34m\u001b[0m\u001b[0;34m\u001b[0m\u001b[0m\n\u001b[0m\u001b[1;32m    502\u001b[0m     \u001b[0;32mreturn\u001b[0m \u001b[0mdist\u001b[0m\u001b[0;34m\u001b[0m\u001b[0;34m\u001b[0m\u001b[0m\n\u001b[1;32m    503\u001b[0m \u001b[0;34m\u001b[0m\u001b[0m\n",
      "\u001b[0;32m~/opt/miniconda3/lib/python3.8/site-packages/scipy/linalg/misc.py\u001b[0m in \u001b[0;36mnorm\u001b[0;34m(a, ord, axis, keepdims, check_finite)\u001b[0m\n\u001b[1;32m    143\u001b[0m     \u001b[0;31m# Differs from numpy only in non-finite handling and the use of blas.\u001b[0m\u001b[0;34m\u001b[0m\u001b[0;34m\u001b[0m\u001b[0;34m\u001b[0m\u001b[0m\n\u001b[1;32m    144\u001b[0m     \u001b[0;32mif\u001b[0m \u001b[0mcheck_finite\u001b[0m\u001b[0;34m:\u001b[0m\u001b[0;34m\u001b[0m\u001b[0;34m\u001b[0m\u001b[0m\n\u001b[0;32m--> 145\u001b[0;31m         \u001b[0ma\u001b[0m \u001b[0;34m=\u001b[0m \u001b[0mnp\u001b[0m\u001b[0;34m.\u001b[0m\u001b[0masarray_chkfinite\u001b[0m\u001b[0;34m(\u001b[0m\u001b[0ma\u001b[0m\u001b[0;34m)\u001b[0m\u001b[0;34m\u001b[0m\u001b[0;34m\u001b[0m\u001b[0m\n\u001b[0m\u001b[1;32m    146\u001b[0m     \u001b[0;32melse\u001b[0m\u001b[0;34m:\u001b[0m\u001b[0;34m\u001b[0m\u001b[0;34m\u001b[0m\u001b[0m\n\u001b[1;32m    147\u001b[0m         \u001b[0ma\u001b[0m \u001b[0;34m=\u001b[0m \u001b[0mnp\u001b[0m\u001b[0;34m.\u001b[0m\u001b[0masarray\u001b[0m\u001b[0;34m(\u001b[0m\u001b[0ma\u001b[0m\u001b[0;34m)\u001b[0m\u001b[0;34m\u001b[0m\u001b[0;34m\u001b[0m\u001b[0m\n",
      "\u001b[0;32m~/opt/miniconda3/lib/python3.8/site-packages/numpy/lib/function_base.py\u001b[0m in \u001b[0;36masarray_chkfinite\u001b[0;34m(a, dtype, order)\u001b[0m\n\u001b[1;32m    483\u001b[0m     \u001b[0ma\u001b[0m \u001b[0;34m=\u001b[0m \u001b[0masarray\u001b[0m\u001b[0;34m(\u001b[0m\u001b[0ma\u001b[0m\u001b[0;34m,\u001b[0m \u001b[0mdtype\u001b[0m\u001b[0;34m=\u001b[0m\u001b[0mdtype\u001b[0m\u001b[0;34m,\u001b[0m \u001b[0morder\u001b[0m\u001b[0;34m=\u001b[0m\u001b[0morder\u001b[0m\u001b[0;34m)\u001b[0m\u001b[0;34m\u001b[0m\u001b[0;34m\u001b[0m\u001b[0m\n\u001b[1;32m    484\u001b[0m     \u001b[0;32mif\u001b[0m \u001b[0ma\u001b[0m\u001b[0;34m.\u001b[0m\u001b[0mdtype\u001b[0m\u001b[0;34m.\u001b[0m\u001b[0mchar\u001b[0m \u001b[0;32min\u001b[0m \u001b[0mtypecodes\u001b[0m\u001b[0;34m[\u001b[0m\u001b[0;34m'AllFloat'\u001b[0m\u001b[0;34m]\u001b[0m \u001b[0;32mand\u001b[0m \u001b[0;32mnot\u001b[0m \u001b[0mnp\u001b[0m\u001b[0;34m.\u001b[0m\u001b[0misfinite\u001b[0m\u001b[0;34m(\u001b[0m\u001b[0ma\u001b[0m\u001b[0;34m)\u001b[0m\u001b[0;34m.\u001b[0m\u001b[0mall\u001b[0m\u001b[0;34m(\u001b[0m\u001b[0;34m)\u001b[0m\u001b[0;34m:\u001b[0m\u001b[0;34m\u001b[0m\u001b[0;34m\u001b[0m\u001b[0m\n\u001b[0;32m--> 485\u001b[0;31m         raise ValueError(\n\u001b[0m\u001b[1;32m    486\u001b[0m             \"array must not contain infs or NaNs\")\n\u001b[1;32m    487\u001b[0m     \u001b[0;32mreturn\u001b[0m \u001b[0ma\u001b[0m\u001b[0;34m\u001b[0m\u001b[0;34m\u001b[0m\u001b[0m\n",
      "\u001b[0;31mValueError\u001b[0m: array must not contain infs or NaNs"
     ]
    }
   ],
   "source": [
    "x = np.random.normal(0,1000000, size=(4))\n",
    "y = np.random.normal(0,1000000, size=(4))\n",
    "x[np.random.randint(4)] = np.inf\n",
    "print(x)\n",
    "dist = distance.euclidean(x,y)"
   ]
  },
  {
   "cell_type": "markdown",
   "metadata": {},
   "source": [
    "# Machine Precision"
   ]
  },
  {
   "cell_type": "code",
   "execution_count": 132,
   "metadata": {
    "scrolled": true
   },
   "outputs": [
    {
     "name": "stdout",
     "output_type": "stream",
     "text": [
      "1000\n"
     ]
    }
   ],
   "source": [
    "eps_values = []\n",
    "eps = np.finfo(float).eps\n",
    "count = 0\n",
    "for i in range(1000):\n",
    "    x = np.random.normal(0,1000000, size=(4))\n",
    "    y = np.copy(x)\n",
    "    y[0] = y[0] + eps\n",
    "    dist = distance.euclidean(x,y)\n",
    "    row = np.concatenate((x,x),axis=0)\n",
    "    eps_values.append(row)\n",
    "    if dist != eps:\n",
    "        count += 1\n",
    "print(count)"
   ]
  },
  {
   "cell_type": "code",
   "execution_count": 133,
   "metadata": {},
   "outputs": [
    {
     "data": {
      "text/plain": [
       "2.220446049250313e-16"
      ]
     },
     "execution_count": 133,
     "metadata": {},
     "output_type": "execute_result"
    }
   ],
   "source": [
    "np.finfo(float).eps"
   ]
  },
  {
   "cell_type": "markdown",
   "metadata": {},
   "source": [
    "# Variable Lengths Minkowski"
   ]
  },
  {
   "cell_type": "code",
   "execution_count": 134,
   "metadata": {},
   "outputs": [],
   "source": [
    "lengths = [10,100,1000]\n",
    "p_vals = [5,10,20]\n",
    "vl_vals = []\n",
    "for l in lengths:\n",
    "    x = np.random.normal(0,1000000, size=(l))\n",
    "    y = np.random.normal(0,1000000, size=(l))\n",
    "    r = distance.minkowski(x,y,10)\n",
    "    row = np.concatenate(([r],x,y),axis=0)\n",
    "    vl_vals.append(row)"
   ]
  },
  {
   "cell_type": "code",
   "execution_count": 135,
   "metadata": {},
   "outputs": [],
   "source": [
    "vl_df = pd.DataFrame(vl_vals)\n",
    "cwd = os.getcwd()\n",
    "vl_df.to_csv(os.path.join(cwd, \"mink_var_length\"),header=False,index=False)"
   ]
  },
  {
   "cell_type": "code",
   "execution_count": 136,
   "metadata": {},
   "outputs": [
    {
     "data": {
      "text/html": [
       "<div>\n",
       "<style scoped>\n",
       "    .dataframe tbody tr th:only-of-type {\n",
       "        vertical-align: middle;\n",
       "    }\n",
       "\n",
       "    .dataframe tbody tr th {\n",
       "        vertical-align: top;\n",
       "    }\n",
       "\n",
       "    .dataframe thead th {\n",
       "        text-align: right;\n",
       "    }\n",
       "</style>\n",
       "<table border=\"1\" class=\"dataframe\">\n",
       "  <thead>\n",
       "    <tr style=\"text-align: right;\">\n",
       "      <th></th>\n",
       "      <th>0</th>\n",
       "      <th>1</th>\n",
       "      <th>2</th>\n",
       "      <th>3</th>\n",
       "      <th>4</th>\n",
       "      <th>5</th>\n",
       "      <th>6</th>\n",
       "      <th>7</th>\n",
       "      <th>8</th>\n",
       "      <th>9</th>\n",
       "      <th>...</th>\n",
       "      <th>1991</th>\n",
       "      <th>1992</th>\n",
       "      <th>1993</th>\n",
       "      <th>1994</th>\n",
       "      <th>1995</th>\n",
       "      <th>1996</th>\n",
       "      <th>1997</th>\n",
       "      <th>1998</th>\n",
       "      <th>1999</th>\n",
       "      <th>2000</th>\n",
       "    </tr>\n",
       "  </thead>\n",
       "  <tbody>\n",
       "    <tr>\n",
       "      <th>0</th>\n",
       "      <td>2.399664e+06</td>\n",
       "      <td>6.514847e+05</td>\n",
       "      <td>1.264937e+06</td>\n",
       "      <td>-8.121557e+05</td>\n",
       "      <td>-5.704273e+05</td>\n",
       "      <td>-438870.329735</td>\n",
       "      <td>-1.454977e+05</td>\n",
       "      <td>-9.008389e+05</td>\n",
       "      <td>671465.529464</td>\n",
       "      <td>6.120171e+05</td>\n",
       "      <td>...</td>\n",
       "      <td>NaN</td>\n",
       "      <td>NaN</td>\n",
       "      <td>NaN</td>\n",
       "      <td>NaN</td>\n",
       "      <td>NaN</td>\n",
       "      <td>NaN</td>\n",
       "      <td>NaN</td>\n",
       "      <td>NaN</td>\n",
       "      <td>NaN</td>\n",
       "      <td>NaN</td>\n",
       "    </tr>\n",
       "    <tr>\n",
       "      <th>1</th>\n",
       "      <td>3.615716e+06</td>\n",
       "      <td>-1.315943e+06</td>\n",
       "      <td>-1.089472e+06</td>\n",
       "      <td>2.079451e+06</td>\n",
       "      <td>-1.094183e+06</td>\n",
       "      <td>-867470.845486</td>\n",
       "      <td>1.344521e+06</td>\n",
       "      <td>6.635609e+05</td>\n",
       "      <td>-957809.821081</td>\n",
       "      <td>-4.682340e+05</td>\n",
       "      <td>...</td>\n",
       "      <td>NaN</td>\n",
       "      <td>NaN</td>\n",
       "      <td>NaN</td>\n",
       "      <td>NaN</td>\n",
       "      <td>NaN</td>\n",
       "      <td>NaN</td>\n",
       "      <td>NaN</td>\n",
       "      <td>NaN</td>\n",
       "      <td>NaN</td>\n",
       "      <td>NaN</td>\n",
       "    </tr>\n",
       "    <tr>\n",
       "      <th>2</th>\n",
       "      <td>5.314226e+06</td>\n",
       "      <td>-1.081621e+06</td>\n",
       "      <td>-2.618645e+05</td>\n",
       "      <td>-1.389621e+05</td>\n",
       "      <td>-1.729511e+06</td>\n",
       "      <td>-403285.917854</td>\n",
       "      <td>1.815216e+06</td>\n",
       "      <td>-1.228075e+06</td>\n",
       "      <td>-80502.403159</td>\n",
       "      <td>1.103900e+06</td>\n",
       "      <td>...</td>\n",
       "      <td>-3789.931183</td>\n",
       "      <td>428118.881616</td>\n",
       "      <td>-684157.459273</td>\n",
       "      <td>160706.967957</td>\n",
       "      <td>-176186.612403</td>\n",
       "      <td>1.184093e+06</td>\n",
       "      <td>185645.946573</td>\n",
       "      <td>-1.929627e+06</td>\n",
       "      <td>410275.536465</td>\n",
       "      <td>-910762.573893</td>\n",
       "    </tr>\n",
       "  </tbody>\n",
       "</table>\n",
       "<p>3 rows × 2001 columns</p>\n",
       "</div>"
      ],
      "text/plain": [
       "           0             1             2             3             4     \\\n",
       "0  2.399664e+06  6.514847e+05  1.264937e+06 -8.121557e+05 -5.704273e+05   \n",
       "1  3.615716e+06 -1.315943e+06 -1.089472e+06  2.079451e+06 -1.094183e+06   \n",
       "2  5.314226e+06 -1.081621e+06 -2.618645e+05 -1.389621e+05 -1.729511e+06   \n",
       "\n",
       "            5             6             7              8             9     \\\n",
       "0 -438870.329735 -1.454977e+05 -9.008389e+05  671465.529464  6.120171e+05   \n",
       "1 -867470.845486  1.344521e+06  6.635609e+05 -957809.821081 -4.682340e+05   \n",
       "2 -403285.917854  1.815216e+06 -1.228075e+06  -80502.403159  1.103900e+06   \n",
       "\n",
       "   ...         1991           1992           1993           1994  \\\n",
       "0  ...          NaN            NaN            NaN            NaN   \n",
       "1  ...          NaN            NaN            NaN            NaN   \n",
       "2  ... -3789.931183  428118.881616 -684157.459273  160706.967957   \n",
       "\n",
       "            1995          1996           1997          1998           1999  \\\n",
       "0            NaN           NaN            NaN           NaN            NaN   \n",
       "1            NaN           NaN            NaN           NaN            NaN   \n",
       "2 -176186.612403  1.184093e+06  185645.946573 -1.929627e+06  410275.536465   \n",
       "\n",
       "            2000  \n",
       "0            NaN  \n",
       "1            NaN  \n",
       "2 -910762.573893  \n",
       "\n",
       "[3 rows x 2001 columns]"
      ]
     },
     "execution_count": 136,
     "metadata": {},
     "output_type": "execute_result"
    }
   ],
   "source": [
    "vl_df.head()"
   ]
  },
  {
   "cell_type": "markdown",
   "metadata": {},
   "source": [
    "# Kullback Leibler"
   ]
  },
  {
   "cell_type": "code",
   "execution_count": 137,
   "metadata": {},
   "outputs": [
    {
     "name": "stdout",
     "output_type": "stream",
     "text": [
      "29051.90746555675\n",
      "0.40067346888861793\n",
      "-0.4875798332986395\n"
     ]
    }
   ],
   "source": [
    "mu = np.random.normal(0,1000000)\n",
    "sigma = abs(np.random.normal())\n",
    "s = np.random.normal(0, sigma, 5)\n",
    "print(mu)\n",
    "print(sigma)\n",
    "print(s.sum())"
   ]
  },
  {
   "cell_type": "code",
   "execution_count": 138,
   "metadata": {},
   "outputs": [
    {
     "name": "stdout",
     "output_type": "stream",
     "text": [
      "0.9999999999999998\n"
     ]
    }
   ],
   "source": [
    "values = np.random.random(5)\n",
    "values = values / values.sum()\n",
    "print(values.sum())"
   ]
  },
  {
   "cell_type": "code",
   "execution_count": 1,
   "metadata": {},
   "outputs": [
    {
     "ename": "NameError",
     "evalue": "name 'np' is not defined",
     "output_type": "error",
     "traceback": [
      "\u001b[0;31m---------------------------------------------------------------------------\u001b[0m",
      "\u001b[0;31mNameError\u001b[0m                                 Traceback (most recent call last)",
      "\u001b[0;32m<ipython-input-1-cfc144190faa>\u001b[0m in \u001b[0;36m<module>\u001b[0;34m\u001b[0m\n\u001b[1;32m      1\u001b[0m \u001b[0mkl_vals\u001b[0m \u001b[0;34m=\u001b[0m \u001b[0;34m[\u001b[0m\u001b[0;34m]\u001b[0m\u001b[0;34m\u001b[0m\u001b[0;34m\u001b[0m\u001b[0m\n\u001b[1;32m      2\u001b[0m \u001b[0;32mfor\u001b[0m \u001b[0mi\u001b[0m \u001b[0;32min\u001b[0m \u001b[0mrange\u001b[0m\u001b[0;34m(\u001b[0m\u001b[0;36m1000\u001b[0m\u001b[0;34m)\u001b[0m\u001b[0;34m:\u001b[0m\u001b[0;34m\u001b[0m\u001b[0;34m\u001b[0m\u001b[0m\n\u001b[0;32m----> 3\u001b[0;31m     \u001b[0mx\u001b[0m \u001b[0;34m=\u001b[0m \u001b[0mnp\u001b[0m\u001b[0;34m.\u001b[0m\u001b[0mrandom\u001b[0m\u001b[0;34m.\u001b[0m\u001b[0mrandom\u001b[0m\u001b[0;34m(\u001b[0m\u001b[0;36m5\u001b[0m\u001b[0;34m)\u001b[0m\u001b[0;34m\u001b[0m\u001b[0;34m\u001b[0m\u001b[0m\n\u001b[0m\u001b[1;32m      4\u001b[0m     \u001b[0my\u001b[0m \u001b[0;34m=\u001b[0m \u001b[0mnp\u001b[0m\u001b[0;34m.\u001b[0m\u001b[0mrandom\u001b[0m\u001b[0;34m.\u001b[0m\u001b[0mrandom\u001b[0m\u001b[0;34m(\u001b[0m\u001b[0;36m5\u001b[0m\u001b[0;34m)\u001b[0m\u001b[0;34m\u001b[0m\u001b[0;34m\u001b[0m\u001b[0m\n\u001b[1;32m      5\u001b[0m     \u001b[0mx\u001b[0m \u001b[0;34m=\u001b[0m \u001b[0mx\u001b[0m\u001b[0;34m/\u001b[0m\u001b[0mx\u001b[0m\u001b[0;34m.\u001b[0m\u001b[0msum\u001b[0m\u001b[0;34m(\u001b[0m\u001b[0;34m)\u001b[0m\u001b[0;34m\u001b[0m\u001b[0;34m\u001b[0m\u001b[0m\n",
      "\u001b[0;31mNameError\u001b[0m: name 'np' is not defined"
     ]
    }
   ],
   "source": [
    "kl_vals = []\n",
    "for i in range(1000):\n",
    "    x = np.random.random(5)\n",
    "    y = np.random.random(5)\n",
    "    x = x/x.sum()\n",
    "    y = y/y.sum()\n",
    "    dist = distance.rel_entr(x,y).sum()\n",
    "    dist = dist **2\n",
    "    row = np.concatenate(([dist],x,y),axis=0)\n",
    "    kl_vals.append(row)"
   ]
  },
  {
   "cell_type": "code",
   "execution_count": 140,
   "metadata": {},
   "outputs": [],
   "source": [
    "# kl_df = pd.DataFrame(kl_vals)\n",
    "# cwd = os.getcwd()\n",
    "# kl_df.to_csv(os.path.join(cwd, \"kl_general\"),header=False,index=False)"
   ]
  },
  {
   "cell_type": "markdown",
   "metadata": {},
   "source": [
    "# Binnning Tests"
   ]
  },
  {
   "cell_type": "code",
   "execution_count": 141,
   "metadata": {},
   "outputs": [
    {
     "name": "stdout",
     "output_type": "stream",
     "text": [
      "[0.34657359 0.         0.         0.         0.         0.\n",
      " 0.         0.         0.        ]\n"
     ]
    }
   ],
   "source": [
    "kl_x = [0.5,0,0,0.25,0,0,0,0.25,0]\n",
    "kl_y = [0.25,0,0,0.25,0,0,0,0.25,0.25]\n",
    "kl_dist = distance.rel_entr(kl_x,kl_y)\n",
    "print(kl_dist)"
   ]
  },
  {
   "cell_type": "code",
   "execution_count": null,
   "metadata": {},
   "outputs": [],
   "source": []
  }
 ],
 "metadata": {
  "kernelspec": {
   "display_name": "Python 3",
   "language": "python",
   "name": "python3"
  },
  "language_info": {
   "codemirror_mode": {
    "name": "ipython",
    "version": 3
   },
   "file_extension": ".py",
   "mimetype": "text/x-python",
   "name": "python",
   "nbconvert_exporter": "python",
   "pygments_lexer": "ipython3",
   "version": "3.8.5"
  }
 },
 "nbformat": 4,
 "nbformat_minor": 4
}
