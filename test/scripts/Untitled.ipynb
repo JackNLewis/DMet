{
 "cells": [
  {
   "cell_type": "code",
   "execution_count": 249,
   "metadata": {},
   "outputs": [],
   "source": [
    "import scipy as sp\n",
    "import numpy as np\n",
    "import os\n",
    "import pandas as pd\n",
    "import sys\n",
    "from scipy.spatial import distance "
   ]
  },
  {
   "cell_type": "markdown",
   "metadata": {},
   "source": [
    "# General tests for euclidean distance"
   ]
  },
  {
   "cell_type": "code",
   "execution_count": 244,
   "metadata": {},
   "outputs": [
    {
     "name": "stdout",
     "output_type": "stream",
     "text": [
      "                0             1             2             3             4  \\\n",
      "0    1.346281e+06 -1.016326e+06  1.648896e+05 -3.066024e+05  1.547175e+06   \n",
      "1   -7.087049e+05 -1.852565e+06 -1.095401e+06  7.295075e+05 -8.696070e+05   \n",
      "2   -5.553827e+05  8.899347e+05 -1.785195e+04  3.045606e+05  2.178522e+06   \n",
      "3    6.811464e+05  7.262650e+04 -4.430506e+05  1.376105e+06 -5.365288e+05   \n",
      "4    2.376295e+05 -8.172786e+05  2.334802e+06 -1.776923e+06  5.950005e+05   \n",
      "..            ...           ...           ...           ...           ...   \n",
      "995  1.058960e+06 -3.468507e+06 -1.030031e+04  5.497965e+05  1.240099e+06   \n",
      "996 -1.347856e+06 -2.489755e+05  1.594530e+06  2.855416e+05 -6.754773e+05   \n",
      "997 -9.360311e+05 -1.882459e+06 -2.263688e+05  1.391402e+04 -3.047968e+05   \n",
      "998 -4.429298e+04  8.352849e+05 -1.241222e+05  1.008532e+06 -3.965802e+05   \n",
      "999  6.473082e+05  5.504422e+05 -6.502085e+05 -9.378166e+05  6.639641e+05   \n",
      "\n",
      "                5             6             7             8  \n",
      "0    5.787930e+05 -5.969461e+05 -7.224893e+05  1.827052e+06  \n",
      "1    1.038674e+06 -7.263088e+05  4.954730e+05  2.928507e+06  \n",
      "2   -6.807240e+05  1.213572e+06 -1.274915e+06  3.735284e+06  \n",
      "3    1.860462e+06  3.023499e+05 -6.398071e+05  3.049363e+06  \n",
      "4    4.032331e+05 -3.774648e+05 -4.874547e+05  3.261362e+06  \n",
      "..            ...           ...           ...           ...  \n",
      "995 -2.539902e+05 -7.063334e+05 -4.846145e+05  3.452593e+06  \n",
      "996 -2.127371e+05 -1.216998e+06  5.991954e+05  2.908002e+06  \n",
      "997  9.539405e+05 -3.502269e+05 -7.940723e+05  3.018576e+06  \n",
      "998 -2.952862e+05 -9.004839e+05 -1.646463e+05  1.838853e+06  \n",
      "999  7.173778e+05  3.475549e+05  4.347553e+04  1.409472e+06  \n",
      "\n",
      "[1000 rows x 9 columns]\n"
     ]
    }
   ],
   "source": [
    "values = []\n",
    "for i in range(1000):\n",
    "    x = np.random.normal(0,1000000, size=(4))\n",
    "    y = np.random.normal(0,1000000, size=(4))\n",
    "    eucl_dist = distance.euclidean(x,y)\n",
    "    row = np.concatenate((x,y,[eucl_dist]),axis=0)\n",
    "    values.append(row)\n",
    "# print(1.7976931348623157e+307 -1.7976931348623157e+307 - 1.7976931348623157e+307)"
   ]
  },
  {
   "cell_type": "code",
   "execution_count": 245,
   "metadata": {},
   "outputs": [
    {
     "name": "stdout",
     "output_type": "stream",
     "text": [
      "Untitled.ipynb\r\n"
     ]
    }
   ],
   "source": [
    "\n"
   ]
  },
  {
   "cell_type": "code",
   "execution_count": 250,
   "metadata": {},
   "outputs": [],
   "source": [
    "dataframe = pd.DataFrame(values)\n",
    "cwd = os.getcwd()\n",
    "dataframe.to_csv(os.path.join(cwd, \"eucl_general\"))"
   ]
  },
  {
   "cell_type": "code",
   "execution_count": null,
   "metadata": {},
   "outputs": [],
   "source": []
  },
  {
   "cell_type": "code",
   "execution_count": null,
   "metadata": {},
   "outputs": [],
   "source": []
  }
 ],
 "metadata": {
  "kernelspec": {
   "display_name": "Python 3",
   "language": "python",
   "name": "python3"
  },
  "language_info": {
   "codemirror_mode": {
    "name": "ipython",
    "version": 3
   },
   "file_extension": ".py",
   "mimetype": "text/x-python",
   "name": "python",
   "nbconvert_exporter": "python",
   "pygments_lexer": "ipython3",
   "version": "3.8.5"
  }
 },
 "nbformat": 4,
 "nbformat_minor": 4
}
