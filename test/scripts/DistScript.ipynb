{
 "cells": [
  {
   "cell_type": "code",
   "execution_count": 2,
   "metadata": {},
   "outputs": [],
   "source": [
    "import scipy as sp\n",
    "import numpy as np\n",
    "import os\n",
    "import pandas as pd\n",
    "import sys\n",
    "from scipy.spatial import distance \n",
    "from scipy.special import rel_entr\n",
    "cwd = os.getcwd()"
   ]
  },
  {
   "cell_type": "markdown",
   "metadata": {},
   "source": [
    "# Zero Difference"
   ]
  },
  {
   "cell_type": "code",
   "execution_count": 5,
   "metadata": {},
   "outputs": [
    {
     "name": "stdout",
     "output_type": "stream",
     "text": [
      "0.3680642071684971\n",
      "0.3680642071684971\n"
     ]
    }
   ],
   "source": [
    "x1 = [0.9,0.1]\n",
    "x2 = [0.5,0.5]\n",
    "\n",
    "x3 = [0.9,0.1,0.0]\n",
    "x4 = [0.5,0.5,0.0]\n",
    "\n",
    "print(rel_entr(x1,x2).sum())\n",
    "print(rel_entr(x3,x4).sum())"
   ]
  },
  {
   "cell_type": "code",
   "execution_count": 6,
   "metadata": {},
   "outputs": [
    {
     "name": "stdout",
     "output_type": "stream",
     "text": [
      "inf\n"
     ]
    }
   ],
   "source": [
    "x5 = [0.8,0.1,0.1]\n",
    "x6 = [0.5,0.0,0.5]\n",
    "\n",
    "print(rel_entr(x5,x6).sum())"
   ]
  },
  {
   "cell_type": "markdown",
   "metadata": {},
   "source": [
    "# Non Symetrric"
   ]
  },
  {
   "cell_type": "code",
   "execution_count": 7,
   "metadata": {},
   "outputs": [
    {
     "name": "stdout",
     "output_type": "stream",
     "text": [
      "0.3446178372922425\n",
      "0.3526532007082499\n"
     ]
    }
   ],
   "source": [
    "x = [0.1,0.2,0.7]\n",
    "y = [0.3,0.4,0.3]\n",
    "print(rel_entr(x,y).sum())\n",
    "print(rel_entr(y,x).sum())"
   ]
  },
  {
   "cell_type": "code",
   "execution_count": null,
   "metadata": {},
   "outputs": [],
   "source": []
  }
 ],
 "metadata": {
  "kernelspec": {
   "display_name": "Python 3",
   "language": "python",
   "name": "python3"
  },
  "language_info": {
   "codemirror_mode": {
    "name": "ipython",
    "version": 3
   },
   "file_extension": ".py",
   "mimetype": "text/x-python",
   "name": "python",
   "nbconvert_exporter": "python",
   "pygments_lexer": "ipython3",
   "version": "3.8.5"
  }
 },
 "nbformat": 4,
 "nbformat_minor": 4
}
