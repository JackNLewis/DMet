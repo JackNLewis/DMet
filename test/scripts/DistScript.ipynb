{
 "cells": [
  {
   "cell_type": "code",
   "execution_count": 1,
   "metadata": {},
   "outputs": [],
   "source": [
    "import scipy as sp\n",
    "import numpy as np\n",
    "import os\n",
    "import pandas as pd\n",
    "import sys\n",
    "from scipy.spatial import distance \n",
    "from scipy.special import rel_entr\n",
    "cwd = os.getcwd()"
   ]
  },
  {
   "cell_type": "markdown",
   "metadata": {},
   "source": [
    "# Zero Difference"
   ]
  },
  {
   "cell_type": "code",
   "execution_count": 66,
   "metadata": {},
   "outputs": [
    {
     "name": "stdout",
     "output_type": "stream",
     "text": [
      "0.3680642071684971\n",
      "0.3680642071684971\n"
     ]
    }
   ],
   "source": [
    "x1 = [0.9,0.1]\n",
    "x2 = [0.5,0.5]\n",
    "\n",
    "x3 = [0.9,0.1,0.0]\n",
    "x4 = [0.5,0.5,0.0]\n",
    "\n",
    "print(rel_entr(x1,x2).sum())\n",
    "print(rel_entr(x3,x4).sum())"
   ]
  },
  {
   "cell_type": "code",
   "execution_count": 67,
   "metadata": {},
   "outputs": [
    {
     "name": "stdout",
     "output_type": "stream",
     "text": [
      "inf\n"
     ]
    }
   ],
   "source": [
    "x5 = [0.8,0.1,0.1]\n",
    "x6 = [0.5,0.0,0.5]\n",
    "\n",
    "print(rel_entr(x5,x6).sum())"
   ]
  },
  {
   "cell_type": "markdown",
   "metadata": {},
   "source": [
    "# Non Symetrric"
   ]
  },
  {
   "cell_type": "code",
   "execution_count": 68,
   "metadata": {},
   "outputs": [
    {
     "name": "stdout",
     "output_type": "stream",
     "text": [
      "0.3446178372922425\n",
      "0.3526532007082499\n"
     ]
    }
   ],
   "source": [
    "x = [0.1,0.2,0.7]\n",
    "y = [0.3,0.4,0.3]\n",
    "print(rel_entr(x,y).sum())\n",
    "print(rel_entr(y,x).sum())"
   ]
  },
  {
   "cell_type": "code",
   "execution_count": 69,
   "metadata": {},
   "outputs": [],
   "source": [
    "js_vals = []\n",
    "for i in range(1000):\n",
    "    x = np.random.random(5)\n",
    "    y = np.random.random(5)\n",
    "    x = x/x.sum()\n",
    "    y = y/y.sum()\n",
    "    dist = distance.jensenshannon(x,y).sum()\n",
    "    dist = dist **2\n",
    "    row = np.concatenate(([dist],x,y),axis=0)\n",
    "    js_vals.append(row)\n"
   ]
  },
  {
   "cell_type": "code",
   "execution_count": 70,
   "metadata": {},
   "outputs": [],
   "source": [
    "js_df = pd.DataFrame(js_vals)\n",
    "cwd = os.getcwd()\n",
    "js_df.to_csv(os.path.join(cwd, \"js_general\"),header=False,index=False)"
   ]
  },
  {
   "cell_type": "markdown",
   "metadata": {},
   "source": [
    "# Zero Difference"
   ]
  },
  {
   "cell_type": "code",
   "execution_count": 2,
   "metadata": {},
   "outputs": [
    {
     "name": "stdout",
     "output_type": "stream",
     "text": [
      "0.10788077716941784\n"
     ]
    }
   ],
   "source": [
    "z_x = [0.5,0,0,0.25,0,0,0,0.25]\n",
    "z_y = [0.25,0,0,0.25,0,0.25,0,0.25]\n",
    "zero_ans = distance.jensenshannon(z_x,z_y).sum()\n",
    "zero_ans = zero_ans ** 2\n",
    "print(zero_ans)\n",
    "\n",
    "\n"
   ]
  },
  {
   "cell_type": "markdown",
   "metadata": {},
   "source": [
    "# Binning test"
   ]
  },
  {
   "cell_type": "code",
   "execution_count": 12,
   "metadata": {
    "scrolled": true
   },
   "outputs": [
    {
     "name": "stdout",
     "output_type": "stream",
     "text": [
      "0.14384103622589042\n"
     ]
    }
   ],
   "source": [
    "b_x = [0.5,0,0,0.25,0,0,0,0.25,0]\n",
    "b_y = [0.25,0,0,0.25,0,0.25,0,0.25,0]\n",
    "m = [0.375,0,0,0.25,0,0.125,0,0.25,0]\n",
    "print(rel_entr(b_x,m).sum())\n",
    "# print(rel_entr(b_y,m).sum())\n",
    "# print((rel_entr(b_x,m).sum()+rel_entr(b_y,m).sum())/2)\n",
    "\n",
    "binning_distance = distance.jensenshannon(b_x,b_y).sum()\n",
    "binning_distance = binning_distance **2\n",
    "# print(binning_distance)"
   ]
  },
  {
   "cell_type": "code",
   "execution_count": null,
   "metadata": {},
   "outputs": [],
   "source": []
  },
  {
   "cell_type": "code",
   "execution_count": null,
   "metadata": {},
   "outputs": [],
   "source": []
  }
 ],
 "metadata": {
  "kernelspec": {
   "display_name": "Python 3",
   "language": "python",
   "name": "python3"
  },
  "language_info": {
   "codemirror_mode": {
    "name": "ipython",
    "version": 3
   },
   "file_extension": ".py",
   "mimetype": "text/x-python",
   "name": "python",
   "nbconvert_exporter": "python",
   "pygments_lexer": "ipython3",
   "version": "3.8.5"
  }
 },
 "nbformat": 4,
 "nbformat_minor": 4
}
